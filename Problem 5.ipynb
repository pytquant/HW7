{
 "cells": [
  {
   "cell_type": "code",
   "execution_count": 1,
   "id": "eb418db8",
   "metadata": {},
   "outputs": [],
   "source": [
    "import numpy as np"
   ]
  },
  {
   "cell_type": "code",
   "execution_count": 2,
   "id": "3eec37b1",
   "metadata": {},
   "outputs": [],
   "source": [
    "cash = 15\n",
    "asset1 = 25\n",
    "asset2 = 15\n",
    "asset3 = 45\n",
    "\n",
    "total = cash + asset1 + asset2 + asset3\n",
    "\n",
    "w1 = asset1/total\n",
    "w2 = asset2/total\n",
    "w3 = asset3/total"
   ]
  },
  {
   "cell_type": "code",
   "execution_count": 3,
   "id": "5c6b5341",
   "metadata": {},
   "outputs": [
    {
     "name": "stdout",
     "output_type": "stream",
     "text": [
      "Recall that the any maximum returns portfolio consists of a cash position with the rest of the portfolio invested in the tangency portfolio.\n",
      "\n",
      "\n",
      "In other words the $85 million in assets position in the given maximum return portfolio corresponds to the tangency portfolio i.e. the $85 million  position in the tangency portfolio is made of $25 million in the first asset  $15 million in the second asset and $45 million in the third asset.\n",
      "\n",
      "\n",
      "TWe conclude that the tangency portfolio is 25.0% invested in the first asset 15.0% invested in the second asset and 45.0% invested in the third asset.\n"
     ]
    }
   ],
   "source": [
    "print(\"Recall that the any maximum returns portfolio consists of a cash position with the rest \\\n",
    "of the portfolio invested in the tangency portfolio.\")\n",
    "print(\"\\n\")\n",
    "print(f\"In other words the ${asset1 + asset2 + asset3} million in assets position in the given maximum return \\\n",
    "portfolio corresponds to the tangency portfolio i.e. the ${asset1 + asset2 + asset3} million \\\n",
    " position in the tangency portfolio is made of ${asset1} million in the first asset \\\n",
    " ${asset2} million in the second asset and ${asset3} million in the third asset.\")\n",
    "print(\"\\n\")\n",
    "print(f\"TWe conclude that the tangency portfolio is {w1*100}% invested in the first asset \\\n",
    "{w2*100}% invested in the second asset and {w3*100}% invested in the third asset.\")"
   ]
  }
 ],
 "metadata": {
  "kernelspec": {
   "display_name": "Python 3 (ipykernel)",
   "language": "python",
   "name": "python3"
  },
  "language_info": {
   "codemirror_mode": {
    "name": "ipython",
    "version": 3
   },
   "file_extension": ".py",
   "mimetype": "text/x-python",
   "name": "python",
   "nbconvert_exporter": "python",
   "pygments_lexer": "ipython3",
   "version": "3.9.7"
  }
 },
 "nbformat": 4,
 "nbformat_minor": 5
}
