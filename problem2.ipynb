{
 "cells": [
  {
   "cell_type": "code",
   "execution_count": 1,
   "id": "17c75a7d",
   "metadata": {},
   "outputs": [],
   "source": [
    "import numpy as np\n",
    "import pandas as pd\n",
    "from funcs import linear_solve_cholesky, get_constant\n",
    "import pandas_market_calendars as mcal\n",
    "\n",
    "import numpy as np\n",
    "from scipy.stats import norm\n",
    "from scipy import optimize\n"
   ]
  },
  {
   "cell_type": "code",
   "execution_count": 2,
   "id": "dc3d4e59",
   "metadata": {},
   "outputs": [
    {
     "name": "stdout",
     "output_type": "stream",
     "text": [
      "TB PVF = 1349.5365684451451\n",
      "TB disc = 0.9964202546130747\n",
      "Dividend yield is 0.019057644308486856\n",
      "RF is 0.004541278079961327\n"
     ]
    }
   ],
   "source": [
    "# TB Page 231\n",
    "\n",
    "A_tb = np.array([1175,1200,1225,1250,1275,1300,1325,1350,1375,1400,1425,1450,1500,1550,1575,1600])\n",
    "strikes_tb = A_tb\n",
    "A_tb = A_tb * -1\n",
    "y_tb = np.array([178.80,154,129.05,104.20,79,54,29.05,4.25,\n",
    "                 -20.40,-45.45,-70.30,-95.95,-144.70,-195,-219.80,-244.50])\n",
    "\n",
    "call_px_tb = np.array([225.40,205.55, 186.20,167.50,149.15,131.70,115.25,99.55,84.90,\n",
    "                       71.10,58.70,47.25,29.25,15.80,11.10,7.90])\n",
    "\n",
    "put_px_tb = np.array([46.60,51.55, 57.15,63.30,70.15,77.70,86.20,95.30,105.30,116.55,129,143.20,173.95,210.80,\n",
    "                     230.90,252.40])\n",
    "\n",
    "\n",
    "pvf_tb = linear_solve_cholesky(y_tb, A_tb)[0]\n",
    "disc_tb = linear_solve_cholesky(y_tb, A_tb)[1]\n",
    "\n",
    "# Trading days \n",
    "nyse = mcal.get_calendar('NYSE')\n",
    "schedule = nyse.schedule(start_date='2012-03-09', end_date='2012-12-22')\n",
    "trading_days_tb = schedule.shape[0]\n",
    "\n",
    "print(f\"TB PVF = {pvf_tb}\")\n",
    "print(f\"TB disc = {disc_tb}\")\n",
    "\n",
    "# PVF = Fe**-rT\n",
    "# disc = e**-rt\n",
    "# F = Se**(r-q)T\n",
    "\n",
    "f_tb = pvf_tb / disc_tb\n",
    "f_tb\n",
    "S_tb = 1370\n",
    "\n",
    "r_tb = np.log(pvf_tb / f_tb)/(trading_days_tb/252) * -1\n",
    "\n",
    "\n",
    "\n",
    "q_tb = np.log(pvf_tb / 1370) / (199/252) * -1\n",
    "print(f\"Dividend yield is {q_tb}\")\n",
    "print(f\"RF is {r_tb}\")"
   ]
  },
  {
   "cell_type": "markdown",
   "id": "86d43042",
   "metadata": {},
   "source": [
    "Problem 2"
   ]
  },
  {
   "cell_type": "code",
   "execution_count": 3,
   "id": "4c018c04",
   "metadata": {},
   "outputs": [],
   "source": [
    "df = pd.read_excel(\"S_P500_ETF_Option_0917.xlsx\")\n",
    "\n",
    "# Trading days \n",
    "nyse = mcal.get_calendar('NYSE')\n",
    "schedule = nyse.schedule(start_date='2017-03-16', end_date='2017-09-29')\n",
    "trading_days = schedule.shape[0]"
   ]
  },
  {
   "cell_type": "code",
   "execution_count": 4,
   "id": "c9fc8d7d",
   "metadata": {},
   "outputs": [],
   "source": [
    "strikes = df['Calls'][2:].values\n",
    "A = strikes * -1.0\n",
    "A = A.astype(float)\n",
    "\n",
    "mid_calls = (df['Unnamed: 2'][2:].values + df['Unnamed: 3'][2:].values)/2\n",
    "mid_puts = (df['Unnamed: 7'][2:].values + df['Unnamed: 8'][2:].values)/2\n",
    "y = mid_calls - mid_puts\n",
    "y = y.astype(float)"
   ]
  },
  {
   "cell_type": "code",
   "execution_count": 5,
   "id": "ecc21a83",
   "metadata": {},
   "outputs": [
    {
     "name": "stdout",
     "output_type": "stream",
     "text": [
      "PVF = 1349.5365684451451\n",
      "disc = 0.9964202546130747\n",
      "----------------------------------------------------------------------------------------------------\n",
      "Using the least squared method we get the annualized dividend yield of 0.016042 and risk-free rate of is 0.012516\n"
     ]
    }
   ],
   "source": [
    "pvf = linear_solve_cholesky(y, A)[0]\n",
    "disc = linear_solve_cholesky(y, A)[1]\n",
    "\n",
    "print(f\"PVF = {pvf_tb}\")\n",
    "print(f\"disc = {disc_tb}\")\n",
    "print(\"-\"*100)\n",
    "F = pvf / disc\n",
    "S = 2381\n",
    "\n",
    "r = abs(np.log(disc))/(trading_days/252)\n",
    "d = abs(np.log(pvf / S) / (trading_days/252))\n",
    "\n",
    "print(f\"Using the least squared method we get the annualized dividend yield of {np.round(d, 6)} and \\\n",
    "risk-free rate of is {np.round(r, 6)}\")"
   ]
  },
  {
   "cell_type": "markdown",
   "id": "bcc928be",
   "metadata": {},
   "source": [
    "Implied Volatility TB"
   ]
  },
  {
   "cell_type": "code",
   "execution_count": 6,
   "id": "a18ebddb",
   "metadata": {},
   "outputs": [],
   "source": [
    "N = norm.cdf\n",
    "\n",
    "\n",
    "def c_bs(pvf, disc, K, T, sigma):\n",
    "    \n",
    "    d1 = np.log(pvf / (K * disc)) / sigma*np.sqrt(T) + (sigma*np.sqrt(T) / 2)\n",
    "    d2 = d1 - sigma*np.sqrt(T)\n",
    "\n",
    "    c_bs = (pvf * N(d1)) -  (K*disc*N(d2))\n",
    "    return c_bs\n",
    "\n",
    "\n",
    "def p_bs(pvf, disc, K, T, sigma):\n",
    "    \n",
    "    d1 = np.log(pvf / (K * disc)) / sigma*np.sqrt(T) + sigma*np.sqrt(T) / 2\n",
    "    d2 = d1 - sigma*np.sqrt(T)\n",
    "\n",
    "    p_bs = K*disc*N(-d2) - pvf * N(-d1)\n",
    "    return p_bs"
   ]
  },
  {
   "cell_type": "code",
   "execution_count": 7,
   "id": "88c027b5",
   "metadata": {},
   "outputs": [],
   "source": [
    "def get_vol(pvf, disc, K, T, mkt_val, op_type = 'c'):\n",
    "    \n",
    "    if op_type == 'c':\n",
    "    \n",
    "        def make_min(sigma):\n",
    "            val = c_bs(pvf, disc, K, T, sigma)\n",
    "            return val - mkt_val\n",
    "    \n",
    "        return optimize.newton(make_min, 0.25)\n",
    "    \n",
    "    elif op_type == 'p':\n",
    "    \n",
    "        def make_min(sigma):\n",
    "            val = p_bs(pvf, disc, K, T, sigma)\n",
    "            return val - mkt_val\n",
    "    \n",
    "        return optimize.newton(make_min, 0.25)\n",
    "    \n",
    "    else:\n",
    "        print(\"Option type should be c or p\")"
   ]
  },
  {
   "cell_type": "code",
   "execution_count": 8,
   "id": "163de998",
   "metadata": {},
   "outputs": [
    {
     "data": {
      "text/plain": [
       "0.14803008304131154"
      ]
     },
     "execution_count": 8,
     "metadata": {},
     "output_type": "execute_result"
    }
   ],
   "source": [
    "T = 199/252\n",
    "S = 1370\n",
    "K = 1600\n",
    "\n",
    "mkt_val = 7.90\n",
    "\n",
    "get_vol(pvf_tb, disc_tb, K, T, mkt_val)"
   ]
  },
  {
   "cell_type": "code",
   "execution_count": 9,
   "id": "13d97bb8",
   "metadata": {},
   "outputs": [
    {
     "name": "stdout",
     "output_type": "stream",
     "text": [
      "Implied volatilites for call from the TB example\n",
      "\n"
     ]
    },
    {
     "data": {
      "text/plain": [
       "[0.25961790346850316,\n",
       " 0.2513459738501823,\n",
       " 0.24314011590547863,\n",
       " 0.2352238764496547,\n",
       " 0.2267567951834274,\n",
       " 0.2188575248642874,\n",
       " 0.21153936937628726,\n",
       " 0.20408726543855088,\n",
       " 0.19697229246552977,\n",
       " 0.18960734817548644,\n",
       " 0.18298794212438058,\n",
       " 0.1760111711038364,\n",
       " 0.16526502651887126,\n",
       " 0.15429681100502524,\n",
       " 0.14997745846902288,\n",
       " 0.14803008304131154]"
      ]
     },
     "execution_count": 9,
     "metadata": {},
     "output_type": "execute_result"
    }
   ],
   "source": [
    "print(\"Implied volatilites for call from the TB example\")\n",
    "print()\n",
    "[get_vol(pvf_tb, disc_tb, strikes_tb[i], T, call_px_tb[i], op_type='c') for i in range(0, len(strikes_tb))]"
   ]
  },
  {
   "cell_type": "code",
   "execution_count": 10,
   "id": "0c13436b",
   "metadata": {},
   "outputs": [
    {
     "name": "stdout",
     "output_type": "stream",
     "text": [
      "Implied volatilites for Put from the TB example\n",
      "\n"
     ]
    },
    {
     "data": {
      "text/plain": [
       "[0.259462608244994,\n",
       " 0.25091412557997106,\n",
       " 0.24282556732761534,\n",
       " 0.23478069812896052,\n",
       " 0.22698450865213998,\n",
       " 0.21927404685446703,\n",
       " 0.2120301686671267,\n",
       " 0.20433793609696693,\n",
       " 0.19667704025766947,\n",
       " 0.18960359044332878,\n",
       " 0.18285447726225815,\n",
       " 0.17751352190035216,\n",
       " 0.1642721810849272,\n",
       " 0.15456534803886612,\n",
       " 0.14988418239879683,\n",
       " 0.14700190589351142]"
      ]
     },
     "execution_count": 10,
     "metadata": {},
     "output_type": "execute_result"
    }
   ],
   "source": [
    "print(\"Implied volatilites for Put from the TB example\")\n",
    "print()\n",
    "[get_vol(pvf_tb, disc_tb, strikes_tb[i], T, put_px_tb[i], op_type='p') for i in range(0, len(strikes_tb))]"
   ]
  },
  {
   "cell_type": "code",
   "execution_count": 11,
   "id": "5cea6dc6",
   "metadata": {},
   "outputs": [
    {
     "data": {
      "text/plain": [
       "16"
      ]
     },
     "execution_count": 11,
     "metadata": {},
     "output_type": "execute_result"
    }
   ],
   "source": [
    "len(strikes_tb)"
   ]
  },
  {
   "cell_type": "markdown",
   "id": "1e447b62",
   "metadata": {},
   "source": [
    "### Implied volatility Problem 2(ii)"
   ]
  },
  {
   "cell_type": "code",
   "execution_count": 12,
   "id": "79d67731",
   "metadata": {},
   "outputs": [
    {
     "data": {
      "text/html": [
       "<div>\n",
       "<style scoped>\n",
       "    .dataframe tbody tr th:only-of-type {\n",
       "        vertical-align: middle;\n",
       "    }\n",
       "\n",
       "    .dataframe tbody tr th {\n",
       "        vertical-align: top;\n",
       "    }\n",
       "\n",
       "    .dataframe thead th {\n",
       "        text-align: right;\n",
       "    }\n",
       "</style>\n",
       "<table border=\"1\" class=\"dataframe\">\n",
       "  <thead>\n",
       "    <tr style=\"text-align: right;\">\n",
       "      <th></th>\n",
       "      <th>Calls</th>\n",
       "      <th>Unnamed: 1</th>\n",
       "      <th>Unnamed: 2</th>\n",
       "      <th>Unnamed: 3</th>\n",
       "      <th>Unnamed: 4</th>\n",
       "      <th>Unnamed: 5</th>\n",
       "      <th>Puts</th>\n",
       "      <th>Unnamed: 7</th>\n",
       "      <th>Unnamed: 8</th>\n",
       "      <th>Unnamed: 9</th>\n",
       "    </tr>\n",
       "  </thead>\n",
       "  <tbody>\n",
       "    <tr>\n",
       "      <th>0</th>\n",
       "      <td>Strike</td>\n",
       "      <td>Ticker</td>\n",
       "      <td>Bid</td>\n",
       "      <td>Ask</td>\n",
       "      <td>Volm</td>\n",
       "      <td>Strike</td>\n",
       "      <td>Ticker</td>\n",
       "      <td>Bid</td>\n",
       "      <td>Ask</td>\n",
       "      <td>Volm</td>\n",
       "    </tr>\n",
       "    <tr>\n",
       "      <th>1</th>\n",
       "      <td>NaN</td>\n",
       "      <td>NaN</td>\n",
       "      <td>NaN</td>\n",
       "      <td>NaN</td>\n",
       "      <td>NaN</td>\n",
       "      <td>NaN</td>\n",
       "      <td>NaN</td>\n",
       "      <td>NaN</td>\n",
       "      <td>NaN</td>\n",
       "      <td>NaN</td>\n",
       "    </tr>\n",
       "    <tr>\n",
       "      <th>2</th>\n",
       "      <td>2150</td>\n",
       "      <td>SPXW 9/29/17 C2150</td>\n",
       "      <td>259.299988</td>\n",
       "      <td>260.700012</td>\n",
       "      <td>0</td>\n",
       "      <td>2150</td>\n",
       "      <td>SPXW 9/29/17 P2150</td>\n",
       "      <td>34.799999</td>\n",
       "      <td>35.700001</td>\n",
       "      <td>10</td>\n",
       "    </tr>\n",
       "    <tr>\n",
       "      <th>3</th>\n",
       "      <td>2175</td>\n",
       "      <td>SPXW 9/29/17 C2175</td>\n",
       "      <td>238.100006</td>\n",
       "      <td>239.600006</td>\n",
       "      <td>0</td>\n",
       "      <td>2175</td>\n",
       "      <td>SPXW 9/29/17 P2175</td>\n",
       "      <td>38.5</td>\n",
       "      <td>39.400002</td>\n",
       "      <td>10</td>\n",
       "    </tr>\n",
       "    <tr>\n",
       "      <th>4</th>\n",
       "      <td>2200</td>\n",
       "      <td>SPXW 9/29/17 C2200</td>\n",
       "      <td>217.399994</td>\n",
       "      <td>218.899994</td>\n",
       "      <td>0</td>\n",
       "      <td>2200</td>\n",
       "      <td>SPXW 9/29/17 P2200</td>\n",
       "      <td>42.5</td>\n",
       "      <td>43.5</td>\n",
       "      <td>10</td>\n",
       "    </tr>\n",
       "    <tr>\n",
       "      <th>5</th>\n",
       "      <td>2225</td>\n",
       "      <td>SPXW 9/29/17 C2225</td>\n",
       "      <td>197.199997</td>\n",
       "      <td>198.699997</td>\n",
       "      <td>0</td>\n",
       "      <td>2225</td>\n",
       "      <td>SPXW 9/29/17 P2225</td>\n",
       "      <td>47.099998</td>\n",
       "      <td>48.099998</td>\n",
       "      <td>0</td>\n",
       "    </tr>\n",
       "    <tr>\n",
       "      <th>6</th>\n",
       "      <td>2250</td>\n",
       "      <td>SPXW 9/29/17 C2250</td>\n",
       "      <td>177.399994</td>\n",
       "      <td>178.899994</td>\n",
       "      <td>0</td>\n",
       "      <td>2250</td>\n",
       "      <td>SPXW 9/29/17 P2250</td>\n",
       "      <td>52.099998</td>\n",
       "      <td>53.200001</td>\n",
       "      <td>1</td>\n",
       "    </tr>\n",
       "    <tr>\n",
       "      <th>7</th>\n",
       "      <td>2275</td>\n",
       "      <td>SPXW 9/29/17 C2275</td>\n",
       "      <td>158.300003</td>\n",
       "      <td>159.699997</td>\n",
       "      <td>0</td>\n",
       "      <td>2275</td>\n",
       "      <td>SPXW 9/29/17 P2275</td>\n",
       "      <td>57.799999</td>\n",
       "      <td>58.900002</td>\n",
       "      <td>0</td>\n",
       "    </tr>\n",
       "    <tr>\n",
       "      <th>8</th>\n",
       "      <td>2300</td>\n",
       "      <td>SPXW 9/29/17 C2300</td>\n",
       "      <td>139.800003</td>\n",
       "      <td>141.300003</td>\n",
       "      <td>0</td>\n",
       "      <td>2300</td>\n",
       "      <td>SPXW 9/29/17 P2300</td>\n",
       "      <td>64.099998</td>\n",
       "      <td>65.300003</td>\n",
       "      <td>1</td>\n",
       "    </tr>\n",
       "    <tr>\n",
       "      <th>9</th>\n",
       "      <td>2325</td>\n",
       "      <td>SPXW 9/29/17 C2325</td>\n",
       "      <td>122.099998</td>\n",
       "      <td>123.599998</td>\n",
       "      <td>0</td>\n",
       "      <td>2325</td>\n",
       "      <td>SPXW 9/29/17 P2325</td>\n",
       "      <td>71.199997</td>\n",
       "      <td>72.5</td>\n",
       "      <td>2</td>\n",
       "    </tr>\n",
       "    <tr>\n",
       "      <th>10</th>\n",
       "      <td>2350</td>\n",
       "      <td>SPXW 9/29/17 C2350</td>\n",
       "      <td>105.300003</td>\n",
       "      <td>106.800003</td>\n",
       "      <td>5</td>\n",
       "      <td>2350</td>\n",
       "      <td>SPXW 9/29/17 P2350</td>\n",
       "      <td>79.099998</td>\n",
       "      <td>80.5</td>\n",
       "      <td>0</td>\n",
       "    </tr>\n",
       "    <tr>\n",
       "      <th>11</th>\n",
       "      <td>2375</td>\n",
       "      <td>SPXW 9/29/17 C2375</td>\n",
       "      <td>89.5</td>\n",
       "      <td>90.900002</td>\n",
       "      <td>5</td>\n",
       "      <td>2375</td>\n",
       "      <td>SPXW 9/29/17 P2375</td>\n",
       "      <td>88.099998</td>\n",
       "      <td>89.5</td>\n",
       "      <td>4</td>\n",
       "    </tr>\n",
       "    <tr>\n",
       "      <th>12</th>\n",
       "      <td>2400</td>\n",
       "      <td>SPXW 9/29/17 C2400</td>\n",
       "      <td>74.800003</td>\n",
       "      <td>76.099998</td>\n",
       "      <td>12</td>\n",
       "      <td>2400</td>\n",
       "      <td>SPXW 9/29/17 P2400</td>\n",
       "      <td>98.099998</td>\n",
       "      <td>99.5</td>\n",
       "      <td>1</td>\n",
       "    </tr>\n",
       "    <tr>\n",
       "      <th>13</th>\n",
       "      <td>2425</td>\n",
       "      <td>SPXW 9/29/17 C2425</td>\n",
       "      <td>61.299999</td>\n",
       "      <td>62.599998</td>\n",
       "      <td>0</td>\n",
       "      <td>2425</td>\n",
       "      <td>SPXW 9/29/17 P2425</td>\n",
       "      <td>109.400002</td>\n",
       "      <td>110.900002</td>\n",
       "      <td>0</td>\n",
       "    </tr>\n",
       "    <tr>\n",
       "      <th>14</th>\n",
       "      <td>2450</td>\n",
       "      <td>SPXW 9/29/17 C2450</td>\n",
       "      <td>49.099998</td>\n",
       "      <td>50.299999</td>\n",
       "      <td>0</td>\n",
       "      <td>2450</td>\n",
       "      <td>SPXW 9/29/17 P2450</td>\n",
       "      <td>122</td>\n",
       "      <td>123.5</td>\n",
       "      <td>0</td>\n",
       "    </tr>\n",
       "    <tr>\n",
       "      <th>15</th>\n",
       "      <td>2475</td>\n",
       "      <td>SPXW 9/29/17 C2475</td>\n",
       "      <td>38.5</td>\n",
       "      <td>39.599998</td>\n",
       "      <td>370</td>\n",
       "      <td>2475</td>\n",
       "      <td>SPXW 9/29/17 P2475</td>\n",
       "      <td>136.100006</td>\n",
       "      <td>137.600006</td>\n",
       "      <td>0</td>\n",
       "    </tr>\n",
       "    <tr>\n",
       "      <th>16</th>\n",
       "      <td>2500</td>\n",
       "      <td>SPXW 9/29/17 C2500</td>\n",
       "      <td>29.4</td>\n",
       "      <td>30.299999</td>\n",
       "      <td>5</td>\n",
       "      <td>2500</td>\n",
       "      <td>SPXW 9/29/17 P2500</td>\n",
       "      <td>151.699997</td>\n",
       "      <td>153.300003</td>\n",
       "      <td>0</td>\n",
       "    </tr>\n",
       "    <tr>\n",
       "      <th>17</th>\n",
       "      <td>2550</td>\n",
       "      <td>SPXW 9/29/17 C2550</td>\n",
       "      <td>15.7</td>\n",
       "      <td>16.4</td>\n",
       "      <td>39</td>\n",
       "      <td>2550</td>\n",
       "      <td>SPXW 9/29/17 P2550</td>\n",
       "      <td>185.899994</td>\n",
       "      <td>190</td>\n",
       "      <td>0</td>\n",
       "    </tr>\n",
       "    <tr>\n",
       "      <th>18</th>\n",
       "      <td>2600</td>\n",
       "      <td>SPXW 9/29/17 C2600</td>\n",
       "      <td>7.7</td>\n",
       "      <td>8.2</td>\n",
       "      <td>2</td>\n",
       "      <td>2600</td>\n",
       "      <td>SPXW 9/29/17 P2600</td>\n",
       "      <td>227.199997</td>\n",
       "      <td>231.699997</td>\n",
       "      <td>0</td>\n",
       "    </tr>\n",
       "    <tr>\n",
       "      <th>19</th>\n",
       "      <td>2650</td>\n",
       "      <td>SPXW 9/29/17 C2650</td>\n",
       "      <td>3.6</td>\n",
       "      <td>4</td>\n",
       "      <td>17</td>\n",
       "      <td>2650</td>\n",
       "      <td>SPXW 9/29/17 P2650</td>\n",
       "      <td>265.899994</td>\n",
       "      <td>285.899994</td>\n",
       "      <td>0</td>\n",
       "    </tr>\n",
       "    <tr>\n",
       "      <th>20</th>\n",
       "      <td>2700</td>\n",
       "      <td>SPXW 9/29/17 C2700</td>\n",
       "      <td>1.75</td>\n",
       "      <td>2.05</td>\n",
       "      <td>71</td>\n",
       "      <td>2700</td>\n",
       "      <td>SPXW 9/29/17 P2700</td>\n",
       "      <td>313.700012</td>\n",
       "      <td>333.600006</td>\n",
       "      <td>0</td>\n",
       "    </tr>\n",
       "    <tr>\n",
       "      <th>21</th>\n",
       "      <td>2800</td>\n",
       "      <td>SPXW 9/29/17 C2800</td>\n",
       "      <td>0.55</td>\n",
       "      <td>0.75</td>\n",
       "      <td>10</td>\n",
       "      <td>2800</td>\n",
       "      <td>SPXW 9/29/17 P2800</td>\n",
       "      <td>411.700012</td>\n",
       "      <td>431.5</td>\n",
       "      <td>0</td>\n",
       "    </tr>\n",
       "  </tbody>\n",
       "</table>\n",
       "</div>"
      ],
      "text/plain": [
       "     Calls          Unnamed: 1  Unnamed: 2  Unnamed: 3 Unnamed: 4 Unnamed: 5  \\\n",
       "0   Strike              Ticker         Bid         Ask       Volm     Strike   \n",
       "1      NaN                 NaN         NaN         NaN        NaN        NaN   \n",
       "2     2150  SPXW 9/29/17 C2150  259.299988  260.700012          0       2150   \n",
       "3     2175  SPXW 9/29/17 C2175  238.100006  239.600006          0       2175   \n",
       "4     2200  SPXW 9/29/17 C2200  217.399994  218.899994          0       2200   \n",
       "5     2225  SPXW 9/29/17 C2225  197.199997  198.699997          0       2225   \n",
       "6     2250  SPXW 9/29/17 C2250  177.399994  178.899994          0       2250   \n",
       "7     2275  SPXW 9/29/17 C2275  158.300003  159.699997          0       2275   \n",
       "8     2300  SPXW 9/29/17 C2300  139.800003  141.300003          0       2300   \n",
       "9     2325  SPXW 9/29/17 C2325  122.099998  123.599998          0       2325   \n",
       "10    2350  SPXW 9/29/17 C2350  105.300003  106.800003          5       2350   \n",
       "11    2375  SPXW 9/29/17 C2375        89.5   90.900002          5       2375   \n",
       "12    2400  SPXW 9/29/17 C2400   74.800003   76.099998         12       2400   \n",
       "13    2425  SPXW 9/29/17 C2425   61.299999   62.599998          0       2425   \n",
       "14    2450  SPXW 9/29/17 C2450   49.099998   50.299999          0       2450   \n",
       "15    2475  SPXW 9/29/17 C2475        38.5   39.599998        370       2475   \n",
       "16    2500  SPXW 9/29/17 C2500        29.4   30.299999          5       2500   \n",
       "17    2550  SPXW 9/29/17 C2550        15.7        16.4         39       2550   \n",
       "18    2600  SPXW 9/29/17 C2600         7.7         8.2          2       2600   \n",
       "19    2650  SPXW 9/29/17 C2650         3.6           4         17       2650   \n",
       "20    2700  SPXW 9/29/17 C2700        1.75        2.05         71       2700   \n",
       "21    2800  SPXW 9/29/17 C2800        0.55        0.75         10       2800   \n",
       "\n",
       "                  Puts  Unnamed: 7  Unnamed: 8 Unnamed: 9  \n",
       "0               Ticker         Bid         Ask       Volm  \n",
       "1                  NaN         NaN         NaN        NaN  \n",
       "2   SPXW 9/29/17 P2150   34.799999   35.700001         10  \n",
       "3   SPXW 9/29/17 P2175        38.5   39.400002         10  \n",
       "4   SPXW 9/29/17 P2200        42.5        43.5         10  \n",
       "5   SPXW 9/29/17 P2225   47.099998   48.099998          0  \n",
       "6   SPXW 9/29/17 P2250   52.099998   53.200001          1  \n",
       "7   SPXW 9/29/17 P2275   57.799999   58.900002          0  \n",
       "8   SPXW 9/29/17 P2300   64.099998   65.300003          1  \n",
       "9   SPXW 9/29/17 P2325   71.199997        72.5          2  \n",
       "10  SPXW 9/29/17 P2350   79.099998        80.5          0  \n",
       "11  SPXW 9/29/17 P2375   88.099998        89.5          4  \n",
       "12  SPXW 9/29/17 P2400   98.099998        99.5          1  \n",
       "13  SPXW 9/29/17 P2425  109.400002  110.900002          0  \n",
       "14  SPXW 9/29/17 P2450         122       123.5          0  \n",
       "15  SPXW 9/29/17 P2475  136.100006  137.600006          0  \n",
       "16  SPXW 9/29/17 P2500  151.699997  153.300003          0  \n",
       "17  SPXW 9/29/17 P2550  185.899994         190          0  \n",
       "18  SPXW 9/29/17 P2600  227.199997  231.699997          0  \n",
       "19  SPXW 9/29/17 P2650  265.899994  285.899994          0  \n",
       "20  SPXW 9/29/17 P2700  313.700012  333.600006          0  \n",
       "21  SPXW 9/29/17 P2800  411.700012       431.5          0  "
      ]
     },
     "execution_count": 12,
     "metadata": {},
     "output_type": "execute_result"
    }
   ],
   "source": [
    "df"
   ]
  },
  {
   "cell_type": "code",
   "execution_count": 13,
   "id": "ad2009c3",
   "metadata": {},
   "outputs": [
    {
     "name": "stdout",
     "output_type": "stream",
     "text": [
      "Implied volatilites for Calls from the Problem 2(ii)\n",
      "\n"
     ]
    },
    {
     "data": {
      "text/plain": [
       "[0.14535667313073308,\n",
       " 0.140901751433851,\n",
       " 0.1365407562301241,\n",
       " 0.1322615482358161,\n",
       " 0.1278391186887156,\n",
       " 0.12353800404082536,\n",
       " 0.11931740561410169,\n",
       " 0.11513350859985298,\n",
       " 0.11105951194250109,\n",
       " 0.10703706179307901,\n",
       " 0.10312575917500666,\n",
       " 0.09938661867562867,\n",
       " 0.09570959771725625,\n",
       " 0.0924484818975937,\n",
       " 0.08938108602611852,\n",
       " 0.08437233115912572,\n",
       " 0.08180906249739675,\n",
       " 0.0819792399011588,\n",
       " 0.08507208514160922,\n",
       " 0.09776762133522705]"
      ]
     },
     "execution_count": 13,
     "metadata": {},
     "output_type": "execute_result"
    }
   ],
   "source": [
    "print(\"Implied volatilites for Calls from the Problem 2(ii)\")\n",
    "print()\n",
    "implied_vol_calls = [get_vol(pvf, disc, strikes[i], T, mid_calls[i], op_type='c') for i in range(0, len(strikes))]\n",
    "implied_vol_calls"
   ]
  },
  {
   "cell_type": "code",
   "execution_count": 14,
   "id": "42777634",
   "metadata": {},
   "outputs": [
    {
     "name": "stdout",
     "output_type": "stream",
     "text": [
      "Implied volatilites for Puts from the Problem 2(ii)\n",
      "\n"
     ]
    },
    {
     "data": {
      "text/plain": [
       "[0.14554229512753647,\n",
       " 0.1411104423393879,\n",
       " 0.13661885496781037,\n",
       " 0.13229376512506405,\n",
       " 0.1278984566176978,\n",
       " 0.1236223359410501,\n",
       " 0.1193615494079905,\n",
       " 0.11520206369930054,\n",
       " 0.11103069650548082,\n",
       " 0.10703343043376758,\n",
       " 0.10302727085324422,\n",
       " 0.09931192963391958,\n",
       " 0.09565854797933558,\n",
       " 0.09229025009367883,\n",
       " 0.0892401415555615,\n",
       " 0.08346277581066669,\n",
       " 0.08039051918641321,\n",
       " 0.08331051126402218,\n",
       " 0.08690434762770052,\n",
       " 0.09971878148137517]"
      ]
     },
     "execution_count": 14,
     "metadata": {},
     "output_type": "execute_result"
    }
   ],
   "source": [
    "print(\"Implied volatilites for Puts from the Problem 2(ii)\")\n",
    "print()\n",
    "implied_vol_puts = [get_vol(pvf, disc, strikes[i], T, mid_puts[i], op_type='p') for i in range(0, len(strikes))]\n",
    "implied_vol_puts"
   ]
  },
  {
   "cell_type": "markdown",
   "id": "afb8f743",
   "metadata": {},
   "source": [
    "Problem 2(ii) Compare the implied volatilities of both calls and puts"
   ]
  },
  {
   "cell_type": "code",
   "execution_count": 15,
   "id": "787441c4",
   "metadata": {},
   "outputs": [
    {
     "data": {
      "text/plain": [
       "array([-1.85621997e-04, -2.08690906e-04, -7.80987377e-05, -3.22168892e-05,\n",
       "       -5.93379290e-05, -8.43319002e-05, -4.41437939e-05, -6.85550994e-05,\n",
       "        2.88154370e-05,  3.63135931e-06,  9.84883218e-05,  7.46890417e-05,\n",
       "        5.10497379e-05,  1.58231804e-04,  1.40944471e-04,  9.09555348e-04,\n",
       "        1.41854331e-03, -1.33127136e-03, -1.83226249e-03, -1.95116015e-03])"
      ]
     },
     "execution_count": 15,
     "metadata": {},
     "output_type": "execute_result"
    }
   ],
   "source": [
    "np.array(implied_vol_calls) - np.array(implied_vol_puts)"
   ]
  },
  {
   "cell_type": "markdown",
   "id": "e042e55e",
   "metadata": {},
   "source": [
    "## TODO part 3 and 4"
   ]
  },
  {
   "cell_type": "markdown",
   "id": "4b2343b6",
   "metadata": {},
   "source": [
    "Explicit implied volatility formula"
   ]
  },
  {
   "cell_type": "code",
   "execution_count": 16,
   "id": "73605436",
   "metadata": {},
   "outputs": [],
   "source": [
    "def A(y):\n",
    "    \n",
    "    j = np.exp((1 - 2/np.pi)*y)\n",
    "    k = np.exp(-1*(1 - 2/np.pi)*y)\n",
    "    return (j - k)**2 \n",
    "\n",
    "def B(y, R):\n",
    "    j = 4*(np.exp((2/np.pi)*y))\n",
    "    k = 2*(np.exp(-y))\n",
    "    l = (np.exp(1 - (2/np.pi)*y))\n",
    "    m = np.exp(-1*(1 - (2/np.pi)))\n",
    "    n = (np.exp(2*y) + 1 - R**2)          \n",
    "    \n",
    "    return j - k * (l + m) * n \n",
    "\n",
    "def C(y, R):\n",
    "    \n",
    "    j = np.exp(-2*y)\n",
    "    k = (R**2 - (np.exp(y) - 1)**2)\n",
    "    l = ((np.exp(y) + 1)**2 - R**2)\n",
    "    \n",
    "    return j*k*l"
   ]
  },
  {
   "cell_type": "code",
   "execution_count": 36,
   "id": "3679cf42",
   "metadata": {},
   "outputs": [
    {
     "name": "stderr",
     "output_type": "stream",
     "text": [
      "/var/folders/sp/yvsgxzf94gv_51lj9l96vwgh0000gn/T/ipykernel_97043/3720225291.py:22: RuntimeWarning: invalid value encountered in sqrt\n",
      "  sigma_ = 1/np.sqrt(T) * (np.sqrt(lmbda + y_) - np.sqrt(lmbda - y_))\n"
     ]
    },
    {
     "data": {
      "text/plain": [
       "nan"
      ]
     },
     "execution_count": 36,
     "metadata": {},
     "output_type": "execute_result"
    }
   ],
   "source": [
    "C_m = 225.40\n",
    "K = 1175\n",
    "T = 199/252\n",
    "\n",
    "\n",
    "y_ = np.log(F/K)\n",
    "alpha_c = C_m/K*np.exp(-r*T)\n",
    "R = 2 * alpha_c - np.exp(y_) + 1\n",
    "\n",
    "A_ = A(y_)\n",
    "B_ = B(y_, R)\n",
    "C_ = C(y_, R)\n",
    "\n",
    "beta = (2*C_) / (B_ + np.sqrt(B_**2 + 4 * A_ * C_))\n",
    "lmbda = -np.pi/2*np.log(beta)\n",
    "\n",
    "\n",
    "if y_ >= 0:\n",
    "    C_0 = K*np.exp(-r*T) * (np.exp(y_) * A_ * (np.sqrt(2*y_) - 1/2 ))\n",
    "    \n",
    "    if C_m <= C_0:\n",
    "        sigma_ = 1/np.sqrt(T) * (np.sqrt(lmbda + y_) - np.sqrt(lmbda - y_))\n",
    "\n",
    "    elif C_m > C_0:\n",
    "        sigma_ = 1/np.sqrt(T) * (np.sqrt(lmbda + y_) + np.sqrt(lmbda - y_))\n",
    "        \n",
    "if y_ < 0:\n",
    "    \n",
    "    C_0 = K*np.exp(-r*T) * ((np.exp(y)/2) - A_ * (-np.sqrt(-2*y_)))\n",
    "    \n",
    "    if C_m <= C_0:\n",
    "        sigma_ = 1/np.sqrt(T) * (-np.sqrt(lmbda + y_) + np.sqrt(lmbda - y_))\n",
    "\n",
    "    if C_m > C_0:\n",
    "        sigma_ = 1/np.sqrt(T) * (np.sqrt(lmbda + y_) + np.sqrt(lmbda - y_))\n",
    "\n",
    "    \n",
    "        "
   ]
  },
  {
   "cell_type": "code",
   "execution_count": 33,
   "id": "d00c1aaf",
   "metadata": {},
   "outputs": [
    {
     "data": {
      "text/plain": [
       "432.79718540486806"
      ]
     },
     "execution_count": 33,
     "metadata": {},
     "output_type": "execute_result"
    }
   ],
   "source": [
    "C_0"
   ]
  },
  {
   "cell_type": "code",
   "execution_count": 44,
   "id": "8ec00d59",
   "metadata": {},
   "outputs": [
    {
     "name": "stdout",
     "output_type": "stream",
     "text": [
      "Cm: 225.4\n",
      "K: 1175\n",
      "T: 0.7896825396825397\n",
      "F: 2376.4065751952007\n",
      "r: 0.012516013524193846\n",
      "y: 0.7043213567717433\n",
      "alphaC: 0.189943142364532\n",
      "R: -0.6425873962881281\n",
      "A: 0.2677850151301371\n",
      "B: -4.983220273238124\n",
      "C: -1.3488245072385308\n"
     ]
    }
   ],
   "source": [
    "C_m = 225.40\n",
    "K = 1175\n",
    "T = 199/252\n",
    "\n",
    "print(f\"Cm: {C_m}\")\n",
    "print(f\"K: {K}\")\n",
    "print(f\"T: {T}\")\n",
    "print(f\"F: {F}\")\n",
    "print(f\"r: {r}\")\n",
    "\n",
    "print(f\"y: {y_}\")\n",
    "print(f\"alphaC: {alpha_c}\")\n",
    "print(f\"R: {R}\")\n",
    "\n",
    "print(f\"A: {A_}\")\n",
    "print(f\"B: {B_}\")\n",
    "print(f\"C: {C_}\")"
   ]
  },
  {
   "cell_type": "code",
   "execution_count": null,
   "id": "625cf0ab",
   "metadata": {},
   "outputs": [],
   "source": []
  }
 ],
 "metadata": {
  "kernelspec": {
   "display_name": "Python 3 (ipykernel)",
   "language": "python",
   "name": "python3"
  },
  "language_info": {
   "codemirror_mode": {
    "name": "ipython",
    "version": 3
   },
   "file_extension": ".py",
   "mimetype": "text/x-python",
   "name": "python",
   "nbconvert_exporter": "python",
   "pygments_lexer": "ipython3",
   "version": "3.9.7"
  }
 },
 "nbformat": 4,
 "nbformat_minor": 5
}
