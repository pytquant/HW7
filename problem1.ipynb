{
 "cells": [
  {
   "cell_type": "code",
   "execution_count": 1,
   "id": "4b4eb014",
   "metadata": {},
   "outputs": [],
   "source": [
    "import numpy as np\n",
    "from funcs import linear_solve_cholesky, get_fitted_vals, \\\n",
    "get_approx_error, get_interp_approx_error, get_cubic_interp, get_approx_cubic_error"
   ]
  },
  {
   "cell_type": "code",
   "execution_count": 2,
   "id": "10d804be",
   "metadata": {},
   "outputs": [
    {
     "name": "stdout",
     "output_type": "stream",
     "text": [
      "[0.01230208 0.12720817 0.3340453  0.52977688]\n",
      "\n",
      "0.04301298358083878\n",
      "--------------------------------------------------\n",
      "[4.65       4.77       4.77333333 4.78333333 4.78333333 4.79666667\n",
      " 4.78       4.78666667 4.81       4.79       4.80333333 4.8\n",
      " 4.78333333 4.76       4.76333333]\n",
      "\n",
      "--*----*----*----*----*----*----*----*----*----*----*----*----*----*----*----*----*----*----*----*----*----*----*----*----*----*----*----*----*----*----*----*----*----*----*----*----*----*----*----*----*----*----*----*----*----*----*----*----*----*--\n",
      "The cubic interpolation values of the 3-year yield by doing cubic spline interpolation between the 2-year, 5-year, and 10-year yield at each data point is \n",
      "\n",
      "\n",
      "Approx Error 0.18643533946778737\n"
     ]
    },
    {
     "data": {
      "text/plain": [
       "[4.641333333333334,\n",
       " 4.7620000000000005,\n",
       " 4.765888888888889,\n",
       " 4.780888888888889,\n",
       " 4.7812222222222225,\n",
       " 4.7891111111111115,\n",
       " 4.773666666666666,\n",
       " 4.781777777777777,\n",
       " 4.805666666666666,\n",
       " 4.786,\n",
       " 4.799555555555555,\n",
       " 4.795333333333334,\n",
       " 4.779555555555556,\n",
       " 4.756333333333333,\n",
       " 4.758222222222223]"
      ]
     },
     "execution_count": 2,
     "metadata": {},
     "output_type": "execute_result"
    }
   ],
   "source": [
    "# Solution manual Pg223\n",
    "\n",
    "y_tb = np.array([4.58,4.71,4.72,4.78,4.77,4.75,4.71,4.72,4.76,4.73,4.75,4.75,4.73,4.71,4.71])\n",
    "\n",
    "A_tb = np.array([[4.69,4.57,4.63],\n",
    "                 [4.81,4.69,4.73],\n",
    "                [4.81,4.70,4.74],\n",
    "                [4.79,4.77,4.81],\n",
    "                [4.79,4.77,4.80],\n",
    "                [4.83,4.73,4.79],\n",
    "                [4.81,4.72,4.76],\n",
    "                [4.81,4.74,4.77],\n",
    "                [4.83,4.77,4.80],\n",
    "                [4.81,4.75,4.77],\n",
    "                [4.82,4.77,4.80],\n",
    "                [4.82,4.76,4.80],\n",
    "                [4.80,4.75,4.78],\n",
    "                [4.78,4.72,4.73],\n",
    "                [4.79,4.71,4.73]])\n",
    "\n",
    "x_tb = linear_solve_cholesky(y_tb,A_tb)\n",
    "approx_error_tb = get_approx_error(y_tb,A_tb)\n",
    "print(x_tb)\n",
    "print()\n",
    "print(approx_error_tb)\n",
    "\n",
    "print(\"-\"*50)\n",
    "t3_interp_tb = (A_tb[:,0] * (2/3)) + (1/3 * A_tb[:,1])\n",
    "t3_approx_error_tb = get_interp_approx_error(y_tb, t3_interp_tb)\n",
    "print(t3_interp_tb)\n",
    "print()\n",
    "t3_approx_error_tb\n",
    "\n",
    "\n",
    "\n",
    "\n",
    "print(\"--*--\"*50)\n",
    "t3_cubic_interp_tb = get_cubic_interp(A_tb, y_tb)\n",
    "\n",
    "print(f\"The cubic interpolation values of the 3-year yield by doing cubic spline \\\n",
    "interpolation between the 2-year, 5-year, and 10-year yield at each data point is \\n\\n\")\n",
    "\n",
    "print(f\"Approx Error {get_approx_cubic_error(y_tb, t3_cubic_interp_tb)}\")\n",
    "\n",
    "list(np.array(t3_cubic_interp_tb))"
   ]
  },
  {
   "cell_type": "markdown",
   "id": "192506b7",
   "metadata": {},
   "source": [
    "Problem 1"
   ]
  },
  {
   "cell_type": "code",
   "execution_count": 3,
   "id": "b588a184",
   "metadata": {},
   "outputs": [],
   "source": [
    "main_matrix = np.array([[1.69,2.58,3.57,4.63],\n",
    "[1.81,2.71,3.69,4.73],\n",
    "[1.81,2.72,3.70,4.74],\n",
    "[1.79,2.78,3.77,4.81],\n",
    "[1.79,2.77,3.77,4.80],\n",
    "[1.83,2.75,3.73,4.79],\n",
    "[1.81,2.71,3.72,4.76],\n",
    "[1.81,2.72,3.74,4.77],\n",
    "[1.83,2.76,3.77,4.80],\n",
    "[1.81,2.73,3.75,4.77],\n",
    "[1.82,2.75,3.77,4.80],\n",
    "[1.82,2.75,3.76,4.80],\n",
    "[1.80,2.73,3.75,4.78],\n",
    "[1.78,2.71,3.72,4.73],\n",
    "[1.79,2.71,3.71,4.73]])"
   ]
  },
  {
   "cell_type": "code",
   "execution_count": 4,
   "id": "2b8823ac",
   "metadata": {},
   "outputs": [
    {
     "name": "stdout",
     "output_type": "stream",
     "text": [
      "Answer to Problem 1(i)\n",
      "\n",
      "The coefficients a, b1, b2, b3 of the linear regression for the yield of the 3-year bond in terms of the yields of the 2-year, 5-year, and 10-year bonds are [-1.27202812  0.12720817  0.3340453   0.52977688]\n",
      "\n",
      "i.e. a, b1, b2, b3 corresponding to the solution to the ordinary least squares problem are T3 ~ -1.272 + 0.1272*T2 + 0.334*T5 + 0.5298*T10\n",
      "\n",
      "The approximation error for linear regression is 0.043013\n"
     ]
    }
   ],
   "source": [
    "y = main_matrix[:,1]\n",
    "A = main_matrix[:,[0,2,3]]\n",
    "\n",
    "x = linear_solve_cholesky(y, A)\n",
    "approx_error = get_approx_error(y,A)\n",
    "\n",
    "print(\"Answer to Problem 1(i)\")\n",
    "print()\n",
    "print(f\"The coefficients a, b1, b2, b3 of the linear regression for the yield of the 3-year \\\n",
    "bond in terms of the yields of the 2-year, 5-year, and 10-year bonds are {x}\")\n",
    "print()\n",
    "print(f\"i.e. a, b1, b2, b3 corresponding to the solution to the ordinary least squares problem are \\\n",
    "T3 ~ {np.round(x[0],4)} + {np.round(x[1],4)}*T2 + {np.round(x[2],4)}*T5 + {np.round(x[3],4)}*T10\")\n",
    "print()\n",
    "print(f\"The approximation error for linear regression is {np.round(approx_error,6)}\")"
   ]
  },
  {
   "cell_type": "code",
   "execution_count": 5,
   "id": "05e4c388",
   "metadata": {},
   "outputs": [
    {
     "name": "stdout",
     "output_type": "stream",
     "text": [
      "Answer to Problem 1(ii)\n",
      "\n",
      "The linear interpolation values of the 3-year yield by doing linear inter-polation between the 2-year yield and the 5-year yield at each data point is \n",
      "\n",
      " [2.67       2.78333333 2.78666667 2.79666667 2.79333333 2.81666667\n",
      " 2.79333333 2.79666667 2.82       2.79666667 2.81333333 2.81333333\n",
      " 2.79333333 2.76333333 2.77      ]\n",
      "The approximation error for linear interpolation is 0.068519\n"
     ]
    }
   ],
   "source": [
    "t3_linear_interp = (A[:,0] * (2/3)) + (1/3 * A[:,2])\n",
    "approx_error_interp = get_approx_error(y, t3_linear_interp)\n",
    "\n",
    "print(\"Answer to Problem 1(ii)\")\n",
    "print()\n",
    "print(f\"The linear interpolation values of the 3-year yield by doing linear inter-\\\n",
    "polation between the 2-year yield and the 5-year yield at each data point is \\n\\n {t3_linear_interp}\")\n",
    "\n",
    "print(f\"The approximation error for linear interpolation is {np.round(approx_error_interp ,6)}\") "
   ]
  },
  {
   "cell_type": "markdown",
   "id": "8c146eef",
   "metadata": {},
   "source": [
    "Problem 1(iii)"
   ]
  },
  {
   "cell_type": "code",
   "execution_count": 6,
   "id": "96626357",
   "metadata": {},
   "outputs": [
    {
     "name": "stdout",
     "output_type": "stream",
     "text": [
      "The cubic interpolation values of the 3-year yield by doing cubic spline interpolation between the 2-year, 5-year, and 10-year yield at each data point is \n",
      "\n",
      "\n",
      "The approximation error of cubic interpolation is 0.817675182272095\n"
     ]
    }
   ],
   "source": [
    "t3_cubic_interp = get_cubic_interp(A, y)\n",
    "\n",
    "print(f\"The cubic interpolation values of the 3-year yield by doing cubic spline \\\n",
    "interpolation between the 2-year, 5-year, and 10-year yield at each data point is \\n\\n\")\n",
    "list(np.array(t3_cubic_interp))\n",
    "\n",
    "approx_error_cubic = get_approx_cubic_error(y, t3_cubic_interp)\n",
    "\n",
    "print(f\"The approximation error of cubic interpolation is {approx_error_cubic}\")"
   ]
  },
  {
   "cell_type": "markdown",
   "id": "364b823a",
   "metadata": {},
   "source": [
    "Compare the Approximation Errors"
   ]
  },
  {
   "cell_type": "code",
   "execution_count": 7,
   "id": "2562854d",
   "metadata": {},
   "outputs": [
    {
     "name": "stdout",
     "output_type": "stream",
     "text": [
      "The Linear Regression Approximation error is 0.0430129835808384\n",
      "\n",
      "The Linear Interpolation Approximation error is 0.06851891270506633\n",
      "\n",
      "The Cubic Spline Interpolation Approximation error is 0.817675182272095\n",
      "\n",
      "As Expected the linear regression gives the most accurate results and does so by a rather wide margin while the linear interpolation has a smaller error than cubic spline interpolation.\n"
     ]
    }
   ],
   "source": [
    "print(f\"The Linear Regression Approximation error is {approx_error}\")\n",
    "print()\n",
    "print(f\"The Linear Interpolation Approximation error is {approx_error_interp}\")\n",
    "print()\n",
    "print(f\"The Cubic Spline Interpolation Approximation error is {approx_error_cubic}\")\n",
    "print()\n",
    "print(\"As Expected the linear regression gives the most accurate results and does so by a rather wide margin \\\n",
    "while the linear interpolation has a smaller error than cubic spline interpolation.\")"
   ]
  },
  {
   "cell_type": "code",
   "execution_count": null,
   "id": "feac4eb4",
   "metadata": {},
   "outputs": [],
   "source": []
  },
  {
   "cell_type": "code",
   "execution_count": null,
   "id": "1727eb41",
   "metadata": {},
   "outputs": [],
   "source": []
  },
  {
   "cell_type": "code",
   "execution_count": null,
   "id": "495b9f07",
   "metadata": {},
   "outputs": [],
   "source": []
  },
  {
   "cell_type": "code",
   "execution_count": null,
   "id": "88434e2e",
   "metadata": {},
   "outputs": [],
   "source": []
  },
  {
   "cell_type": "code",
   "execution_count": null,
   "id": "1364a2fd",
   "metadata": {},
   "outputs": [],
   "source": []
  },
  {
   "cell_type": "code",
   "execution_count": null,
   "id": "5b70eddd",
   "metadata": {},
   "outputs": [],
   "source": []
  }
 ],
 "metadata": {
  "kernelspec": {
   "display_name": "Python 3 (ipykernel)",
   "language": "python",
   "name": "python3"
  },
  "language_info": {
   "codemirror_mode": {
    "name": "ipython",
    "version": 3
   },
   "file_extension": ".py",
   "mimetype": "text/x-python",
   "name": "python",
   "nbconvert_exporter": "python",
   "pygments_lexer": "ipython3",
   "version": "3.9.7"
  }
 },
 "nbformat": 4,
 "nbformat_minor": 5
}
