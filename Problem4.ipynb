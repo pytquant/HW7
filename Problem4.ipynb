{
 "cells": [
  {
   "cell_type": "code",
   "execution_count": 1,
   "id": "e6fef211",
   "metadata": {},
   "outputs": [],
   "source": [
    "import pandas as pd\n",
    "import numpy as np"
   ]
  },
  {
   "cell_type": "code",
   "execution_count": 2,
   "id": "7eaa6055",
   "metadata": {},
   "outputs": [],
   "source": [
    "stock_1_px = 80\n",
    "stock_2_px = 65\n",
    "\n",
    "ret1 = 0.15\n",
    "ret2 = 0.05\n",
    "\n",
    "stock_1_sd = 0.35\n",
    "stock_2_sd = 0.15\n",
    "\n",
    "corr = 0.15\n",
    "\n",
    "qty_1 = 150\n",
    "qty_2 = 500\n",
    "\n",
    "pos1 = stock_1_px * qty_1\n",
    "pos2 = stock_2_px * qty_2\n",
    "\n",
    "total_pos = pos1 + pos2\n",
    "\n",
    "w1 = (pos1/total_pos)\n",
    "w2 = (pos2/total_pos)"
   ]
  },
  {
   "cell_type": "markdown",
   "id": "37335b9b",
   "metadata": {},
   "source": [
    "Problem 4 (i)"
   ]
  },
  {
   "cell_type": "code",
   "execution_count": 3,
   "id": "95113378",
   "metadata": {},
   "outputs": [
    {
     "name": "stdout",
     "output_type": "stream",
     "text": [
      "The position and weight of Stock 1 is 12000, 0.2696629213483146 and the position and weight of stock 2 is 32500, 0.7303370786516854 and the portfolio size is 44500\n"
     ]
    }
   ],
   "source": [
    "print(f\"The position and weight of Stock 1 is {pos1}, {w1} \\\n",
    "and the position and weight of stock 2 is {pos2}, {w2} and the portfolio size is {total_pos}\")"
   ]
  },
  {
   "cell_type": "markdown",
   "id": "b4a8be16",
   "metadata": {},
   "source": [
    "Problem 4 (ii)"
   ]
  },
  {
   "cell_type": "code",
   "execution_count": 4,
   "id": "0738ec4f",
   "metadata": {},
   "outputs": [],
   "source": [
    "def get_wtg(expected_ret, ret1, ret2):\n",
    "    \n",
    "    w1 = (expected_ret - ret2)/(ret1 - ret2)\n",
    "    w2 = 1 - w1\n",
    "    return w1, w2"
   ]
  },
  {
   "cell_type": "code",
   "execution_count": 5,
   "id": "5f883cd3",
   "metadata": {},
   "outputs": [
    {
     "name": "stdout",
     "output_type": "stream",
     "text": [
      "To get a portfolio made of the two stocks that has 8% expected return we willneed to invest 300000.0 in stock 1 and 700000.0 in stock 2.\n"
     ]
    }
   ],
   "source": [
    "w1 = get_wtg(0.08, ret1, ret2)[0]\n",
    "w2 = get_wtg(0.08, ret1, ret2)[1]\n",
    "\n",
    "total_portfolio = 1000000\n",
    "\n",
    "pos1 = w1 * total_portfolio \n",
    "pos2 = w2 * total_portfolio\n",
    "\n",
    "print(f\"To get a portfolio made of the two stocks that has 8% expected return we will\\\n",
    "need to invest {pos1} in stock 1 and {pos2} in stock 2.\")"
   ]
  },
  {
   "cell_type": "markdown",
   "id": "530cb8ee",
   "metadata": {},
   "source": [
    "Problem 4 (iii)"
   ]
  },
  {
   "cell_type": "code",
   "execution_count": 6,
   "id": "adcb85f9",
   "metadata": {},
   "outputs": [],
   "source": [
    "def get_sd(w1, sd1, sd2, corr):\n",
    "    \n",
    "    var = (w1**2)*(sd1)**2 + 2*w1*(1 - w1)*corr*sd1*sd2 + (1-w1)**2 * sd2**2\n",
    "    var = np.sqrt(var)\n",
    "    \n",
    "    return var"
   ]
  },
  {
   "cell_type": "code",
   "execution_count": 7,
   "id": "de9ae156",
   "metadata": {},
   "outputs": [
    {
     "name": "stdout",
     "output_type": "stream",
     "text": [
      "0.62 0.2324837628738833\n",
      "0.63 0.2353121862547709\n",
      "0.64 0.2381612898856571\n",
      "0.65 0.24103034041381594\n",
      "0.66 0.24391863397452848\n",
      "0.67 0.2468254950364731\n",
      "0.68 0.24975027527512358\n"
     ]
    },
    {
     "data": {
      "text/plain": [
       "[None, None, None, None, None, None, None]"
      ]
     },
     "execution_count": 7,
     "metadata": {},
     "output_type": "execute_result"
    }
   ],
   "source": [
    "rng = np.arange(0,1,0.01)\n",
    "\n",
    "[print(i, get_sd(i,stock_1_sd, stock_2_sd, corr)) for i in rng if \\\n",
    " get_sd(i,stock_1_sd, stock_2_sd, corr) > 0.23 and get_sd(i,stock_1_sd, stock_2_sd, corr) < 0.25]"
   ]
  },
  {
   "cell_type": "code",
   "execution_count": 8,
   "id": "98920b6c",
   "metadata": {},
   "outputs": [
    {
     "name": "stdout",
     "output_type": "stream",
     "text": [
      "The weight of stock 1 is 0.65 and weight of stock 2 is 0.35 and the expected returns are 0.115. The std deviation is 0.24103034041381594\n"
     ]
    }
   ],
   "source": [
    "w1 = 0.65\n",
    "w2 = (1-w1)\n",
    "port_std = get_sd(w1,stock_1_sd, stock_2_sd, corr)\n",
    "\n",
    "exp_ret = w1 * ret1 + w2 * ret2\n",
    "\n",
    "\n",
    "print(f\"The weight of stock 1 is {w1} and weight of stock 2 is {w2} \\\n",
    "and the expected returns are {exp_ret}. The std deviation is {port_std}\")"
   ]
  }
 ],
 "metadata": {
  "kernelspec": {
   "display_name": "Python 3 (ipykernel)",
   "language": "python",
   "name": "python3"
  },
  "language_info": {
   "codemirror_mode": {
    "name": "ipython",
    "version": 3
   },
   "file_extension": ".py",
   "mimetype": "text/x-python",
   "name": "python",
   "nbconvert_exporter": "python",
   "pygments_lexer": "ipython3",
   "version": "3.9.7"
  }
 },
 "nbformat": 4,
 "nbformat_minor": 5
}
