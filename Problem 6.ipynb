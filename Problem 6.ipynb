{
 "cells": [
  {
   "cell_type": "markdown",
   "id": "90832ba5",
   "metadata": {},
   "source": [
    "Problem 6"
   ]
  },
  {
   "cell_type": "code",
   "execution_count": 1,
   "id": "0ad9fe0c",
   "metadata": {},
   "outputs": [],
   "source": [
    "import numpy as np\n",
    "import scipy.linalg as LA"
   ]
  },
  {
   "cell_type": "code",
   "execution_count": 2,
   "id": "02b96c53",
   "metadata": {},
   "outputs": [],
   "source": [
    "ret1 = 0.06\n",
    "ret2 = 0.12\n",
    "\n",
    "sigma1 = 0.15\n",
    "sigma2 = 0.25\n",
    "\n",
    "corr = 0.30\n",
    "\n",
    "rf = 0.02"
   ]
  },
  {
   "cell_type": "code",
   "execution_count": 3,
   "id": "4573f75c",
   "metadata": {},
   "outputs": [],
   "source": [
    "mu = np.array([ret1 - rf,\n",
    "               ret2 - rf])\n",
    "\n",
    "sigma_port = np.array([\n",
    "    [sigma1**2, sigma1*sigma2*corr], [sigma1*sigma2*corr, sigma2**2]\n",
    "])\n",
    "\n",
    "#TB\n",
    "sigma_port_tb = np.array([[0.0625, -0.0219],\n",
    "                       [-0.0219, 0.1225]])                       "
   ]
  },
  {
   "cell_type": "code",
   "execution_count": 4,
   "id": "e5b91846",
   "metadata": {},
   "outputs": [
    {
     "data": {
      "text/plain": [
       "array([0.04, 0.1 ])"
      ]
     },
     "execution_count": 4,
     "metadata": {},
     "output_type": "execute_result"
    }
   ],
   "source": [
    "mu"
   ]
  },
  {
   "cell_type": "markdown",
   "id": "0def4377",
   "metadata": {},
   "source": [
    "Check the below formula on page 274"
   ]
  },
  {
   "cell_type": "code",
   "execution_count": 5,
   "id": "d97d822c",
   "metadata": {},
   "outputs": [],
   "source": [
    "w1 = (sigma1**2 - sigma1*sigma2*corr) / (sigma1**2 - (2 * sigma1 * sigma2 * corr) + sigma2**2)"
   ]
  },
  {
   "cell_type": "code",
   "execution_count": 6,
   "id": "49c44bb7",
   "metadata": {},
   "outputs": [],
   "source": [
    "w2 = (sigma2**2 - sigma1*sigma2*corr) / (sigma1**2 - (2 * sigma1 * sigma2 * corr) + sigma2**2)"
   ]
  },
  {
   "cell_type": "markdown",
   "id": "58111c10",
   "metadata": {},
   "source": [
    "Problem 6 (i)"
   ]
  },
  {
   "cell_type": "code",
   "execution_count": 7,
   "id": "46f7718f",
   "metadata": {},
   "outputs": [
    {
     "name": "stdout",
     "output_type": "stream",
     "text": [
      "The asset allocation for the tangency portfolio is 18.0% in asset 1 and 82.0% in asset 2.\n"
     ]
    }
   ],
   "source": [
    "print(f\"The asset allocation for the tangency portfolio is {w1*100}% \\\n",
    "in asset 1 and {np.round(w2,4)*100}% in asset 2.\")"
   ]
  },
  {
   "cell_type": "markdown",
   "id": "3bd24845",
   "metadata": {},
   "source": [
    "Problem 6 (ii)"
   ]
  },
  {
   "cell_type": "code",
   "execution_count": 8,
   "id": "817e1411",
   "metadata": {},
   "outputs": [
    {
     "name": "stdout",
     "output_type": "stream",
     "text": [
      "The minimum variance portfolio with 8.0% expected return is obtained by holding a cash position equal to 32.74% of the total portfolio, and by investing 12.11% of the total portfolio in asset 1 and 55.16% of the total portfolio value in asset 2.\n",
      "\n",
      "\n",
      "The standard deviation of the return of the minimum variance portfolio with 8% is 14.438399955380504%\n"
     ]
    }
   ],
   "source": [
    "minvar_expected_ret = 0.08\n",
    "\n",
    "# TB \n",
    "# 1 - (0.07 - 0.05) / (np.array([0.03,0.07]) @ np.array([0.3333,0.6666]))\n",
    "# minvar_cash_tb = 1 - (0.07 - 0.05) / (np.array([0.03,0.07]) @ np.array([0.3333,0.6666]))\n",
    "# w_minvar_tb = (1 - minvar_cash_tb) * (np.array([0.333333,0.666667]))\n",
    "\n",
    "# TB page 241 Calculation of the Std Dev\n",
    "# minvar_cash_tb = 1 - (0.07 - 0.05) / (np.array([0.03,0.07]) @ np.array([0.3333,0.6666])) \n",
    "# w_minvar_tb = (1 - minvar_cash_tb) * (np.array([0.333333,0.666667]))\n",
    "# np.sqrt(w_minvar_tb.T@sigma_port_tb@w_minvar_tb)\n",
    "\n",
    "minvar_cash = 1 - (minvar_expected_ret - rf) / (mu @ np.array([w1,w2]))\n",
    "w_minvar = (1 - minvar_cash) * (np.array([w1, w2]))\n",
    "\n",
    "\n",
    "print(f\"The minimum variance portfolio with {minvar_expected_ret*100}% expected return is obtained by holding a cash position equal to \\\n",
    "{np.round(minvar_cash * 100, 2)}% of the total portfolio, and by investing {np.round(w_minvar[0] * 100, 2)}% \\\n",
    "of the total portfolio in asset 1 and {np.round(w_minvar[1] * 100, 2)}% of the total portfolio value in \\\n",
    "asset 2.\")\n",
    "print(\"\\n\")\n",
    "\n",
    "# Std Dev\n",
    "std_minvar = np.sqrt(w_minvar@sigma_port@w_minvar)\n",
    "print(f\"The standard deviation of the return of the minimum variance portfolio with 8% \\\n",
    "is {std_minvar*100}%\")"
   ]
  },
  {
   "cell_type": "markdown",
   "id": "6318a5b0",
   "metadata": {},
   "source": [
    "Problem 6 (iii)"
   ]
  },
  {
   "cell_type": "code",
   "execution_count": 9,
   "id": "68c066d0",
   "metadata": {},
   "outputs": [
    {
     "name": "stdout",
     "output_type": "stream",
     "text": [
      "The minimum variance portfolio with 15.0% expected return is obtained by holding a cash position equal to -45.74% of the total portfolio, and by investing 26.23% of the total portfolio in asset 1 and 119.51% of the total portfolio value in asset 2.\n",
      "\n",
      "\n",
      "The standard deviation of the return of the minimum variance portfolio with 0.15% is 31.283199903324423%\n"
     ]
    }
   ],
   "source": [
    "minvar_expected_ret = 0.15\n",
    "\n",
    "minvar_cash = 1 - (minvar_expected_ret - rf) / (mu @ np.array([w1,w2]))\n",
    "w_minvar = (1 - minvar_cash) * (np.array([w1, w2]))\n",
    "\n",
    "\n",
    "print(f\"The minimum variance portfolio with {minvar_expected_ret*100}% expected return is obtained by holding a cash position equal to \\\n",
    "{np.round(minvar_cash * 100, 2)}% of the total portfolio, and by investing {np.round(w_minvar[0] * 100, 2)}% \\\n",
    "of the total portfolio in asset 1 and {np.round(w_minvar[1] * 100, 2)}% of the total portfolio value in \\\n",
    "asset 2.\")\n",
    "print(\"\\n\")\n",
    "\n",
    "# Std Dev\n",
    "std_minvar = np.sqrt(w_minvar@sigma_port@w_minvar)\n",
    "print(f\"The standard deviation of the return of the minimum variance portfolio with {minvar_expected_ret}% \\\n",
    "is {std_minvar*100}%\")"
   ]
  },
  {
   "cell_type": "code",
   "execution_count": null,
   "id": "0ed211a6",
   "metadata": {},
   "outputs": [],
   "source": []
  }
 ],
 "metadata": {
  "kernelspec": {
   "display_name": "Python 3 (ipykernel)",
   "language": "python",
   "name": "python3"
  },
  "language_info": {
   "codemirror_mode": {
    "name": "ipython",
    "version": 3
   },
   "file_extension": ".py",
   "mimetype": "text/x-python",
   "name": "python",
   "nbconvert_exporter": "python",
   "pygments_lexer": "ipython3",
   "version": "3.9.7"
  }
 },
 "nbformat": 4,
 "nbformat_minor": 5
}
